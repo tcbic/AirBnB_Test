{
 "cells": [
  {
   "cell_type": "code",
   "execution_count": 179,
   "metadata": {},
   "outputs": [],
   "source": [
    "import pandas as pd"
   ]
  },
  {
   "cell_type": "code",
   "execution_count": 180,
   "metadata": {},
   "outputs": [],
   "source": [
    "data = pd.read_csv('dataset_tuesday_v2.csv')"
   ]
  },
  {
   "cell_type": "code",
   "execution_count": 181,
   "metadata": {
    "scrolled": true
   },
   "outputs": [
    {
     "data": {
      "text/html": [
       "<div>\n",
       "<style scoped>\n",
       "    .dataframe tbody tr th:only-of-type {\n",
       "        vertical-align: middle;\n",
       "    }\n",
       "\n",
       "    .dataframe tbody tr th {\n",
       "        vertical-align: top;\n",
       "    }\n",
       "\n",
       "    .dataframe thead th {\n",
       "        text-align: right;\n",
       "    }\n",
       "</style>\n",
       "<table border=\"1\" class=\"dataframe\">\n",
       "  <thead>\n",
       "    <tr style=\"text-align: right;\">\n",
       "      <th></th>\n",
       "      <th>id</th>\n",
       "      <th>name</th>\n",
       "      <th>description</th>\n",
       "      <th>neighborhood_overview</th>\n",
       "      <th>transit</th>\n",
       "      <th>neighborhood</th>\n",
       "      <th>state</th>\n",
       "      <th>zipcode</th>\n",
       "      <th>latitude</th>\n",
       "      <th>longitude</th>\n",
       "      <th>...</th>\n",
       "      <th>review_scores_location</th>\n",
       "      <th>review_scores_value</th>\n",
       "      <th>cancellation_policy</th>\n",
       "      <th>reviews_per_month</th>\n",
       "      <th>wifi</th>\n",
       "      <th>cable_tv</th>\n",
       "      <th>washer</th>\n",
       "      <th>kitchen</th>\n",
       "      <th>security</th>\n",
       "      <th>cost</th>\n",
       "    </tr>\n",
       "  </thead>\n",
       "  <tbody>\n",
       "    <tr>\n",
       "      <th>0</th>\n",
       "      <td>2015</td>\n",
       "      <td>Berlin-Mitte Value! Quiet courtyard/very central</td>\n",
       "      <td>Great location!  30 of 75 sq meters. This wood...</td>\n",
       "      <td>It is located in the former East Berlin area o...</td>\n",
       "      <td>Close to U-Bahn U8 and U2 (metro), Trams M12, ...</td>\n",
       "      <td>Mitte</td>\n",
       "      <td>Berlin</td>\n",
       "      <td>10119</td>\n",
       "      <td>52.534537</td>\n",
       "      <td>13.402557</td>\n",
       "      <td>...</td>\n",
       "      <td>10.0</td>\n",
       "      <td>9.0</td>\n",
       "      <td>strict_14_with_grace_period</td>\n",
       "      <td>3.76</td>\n",
       "      <td>1</td>\n",
       "      <td>0</td>\n",
       "      <td>1</td>\n",
       "      <td>1</td>\n",
       "      <td>1</td>\n",
       "      <td>90.0</td>\n",
       "    </tr>\n",
       "    <tr>\n",
       "      <th>1</th>\n",
       "      <td>2695</td>\n",
       "      <td>Prenzlauer Berg close to Mauerpark</td>\n",
       "      <td>In the summertime we are spending most of our ...</td>\n",
       "      <td>NaN</td>\n",
       "      <td>Within walking distance you'll find the S-Bahn...</td>\n",
       "      <td>Pankow</td>\n",
       "      <td>Berlin</td>\n",
       "      <td>10437</td>\n",
       "      <td>52.548513</td>\n",
       "      <td>13.404553</td>\n",
       "      <td>...</td>\n",
       "      <td>10.0</td>\n",
       "      <td>10.0</td>\n",
       "      <td>flexible</td>\n",
       "      <td>1.42</td>\n",
       "      <td>1</td>\n",
       "      <td>1</td>\n",
       "      <td>1</td>\n",
       "      <td>1</td>\n",
       "      <td>0</td>\n",
       "      <td>17.0</td>\n",
       "    </tr>\n",
       "    <tr>\n",
       "      <th>2</th>\n",
       "      <td>3176</td>\n",
       "      <td>Fabulous Flat in great Location</td>\n",
       "      <td>This beautiful first floor apartment  is situa...</td>\n",
       "      <td>The neighbourhood is famous for its variety of...</td>\n",
       "      <td>We are 5 min walk  away from the tram M2, whic...</td>\n",
       "      <td>Pankow</td>\n",
       "      <td>Berlin</td>\n",
       "      <td>10405</td>\n",
       "      <td>52.534996</td>\n",
       "      <td>13.417579</td>\n",
       "      <td>...</td>\n",
       "      <td>10.0</td>\n",
       "      <td>9.0</td>\n",
       "      <td>strict_14_with_grace_period</td>\n",
       "      <td>1.25</td>\n",
       "      <td>1</td>\n",
       "      <td>1</td>\n",
       "      <td>1</td>\n",
       "      <td>1</td>\n",
       "      <td>1</td>\n",
       "      <td>140.0</td>\n",
       "    </tr>\n",
       "    <tr>\n",
       "      <th>3</th>\n",
       "      <td>3309</td>\n",
       "      <td>BerlinSpot Schöneberg near KaDeWe</td>\n",
       "      <td>First of all: I prefer short-notice bookings. ...</td>\n",
       "      <td>My flat is in the middle of West-Berlin, direc...</td>\n",
       "      <td>The public transportation is excellent: Severa...</td>\n",
       "      <td>Tempelhof - Schöneberg</td>\n",
       "      <td>Berlin</td>\n",
       "      <td>10777</td>\n",
       "      <td>52.498855</td>\n",
       "      <td>13.349065</td>\n",
       "      <td>...</td>\n",
       "      <td>9.0</td>\n",
       "      <td>9.0</td>\n",
       "      <td>strict_14_with_grace_period</td>\n",
       "      <td>0.39</td>\n",
       "      <td>1</td>\n",
       "      <td>1</td>\n",
       "      <td>1</td>\n",
       "      <td>0</td>\n",
       "      <td>1</td>\n",
       "      <td>56.0</td>\n",
       "    </tr>\n",
       "    <tr>\n",
       "      <th>4</th>\n",
       "      <td>7071</td>\n",
       "      <td>BrightRoom with sunny greenview!</td>\n",
       "      <td>Cozy and large room in the beautiful district ...</td>\n",
       "      <td>Great neighborhood with plenty of Cafés, Baker...</td>\n",
       "      <td>Best access to other parts of the city via pub...</td>\n",
       "      <td>Pankow</td>\n",
       "      <td>Berlin</td>\n",
       "      <td>10437</td>\n",
       "      <td>52.543157</td>\n",
       "      <td>13.415091</td>\n",
       "      <td>...</td>\n",
       "      <td>10.0</td>\n",
       "      <td>9.0</td>\n",
       "      <td>moderate</td>\n",
       "      <td>1.75</td>\n",
       "      <td>1</td>\n",
       "      <td>1</td>\n",
       "      <td>0</td>\n",
       "      <td>0</td>\n",
       "      <td>0</td>\n",
       "      <td>42.0</td>\n",
       "    </tr>\n",
       "  </tbody>\n",
       "</table>\n",
       "<p>5 rows × 38 columns</p>\n",
       "</div>"
      ],
      "text/plain": [
       "     id                                              name  \\\n",
       "0  2015  Berlin-Mitte Value! Quiet courtyard/very central   \n",
       "1  2695                Prenzlauer Berg close to Mauerpark   \n",
       "2  3176                   Fabulous Flat in great Location   \n",
       "3  3309                 BerlinSpot Schöneberg near KaDeWe   \n",
       "4  7071                  BrightRoom with sunny greenview!   \n",
       "\n",
       "                                         description  \\\n",
       "0  Great location!  30 of 75 sq meters. This wood...   \n",
       "1  In the summertime we are spending most of our ...   \n",
       "2  This beautiful first floor apartment  is situa...   \n",
       "3  First of all: I prefer short-notice bookings. ...   \n",
       "4  Cozy and large room in the beautiful district ...   \n",
       "\n",
       "                               neighborhood_overview  \\\n",
       "0  It is located in the former East Berlin area o...   \n",
       "1                                                NaN   \n",
       "2  The neighbourhood is famous for its variety of...   \n",
       "3  My flat is in the middle of West-Berlin, direc...   \n",
       "4  Great neighborhood with plenty of Cafés, Baker...   \n",
       "\n",
       "                                             transit            neighborhood  \\\n",
       "0  Close to U-Bahn U8 and U2 (metro), Trams M12, ...                   Mitte   \n",
       "1  Within walking distance you'll find the S-Bahn...                  Pankow   \n",
       "2  We are 5 min walk  away from the tram M2, whic...                  Pankow   \n",
       "3  The public transportation is excellent: Severa...  Tempelhof - Schöneberg   \n",
       "4  Best access to other parts of the city via pub...                  Pankow   \n",
       "\n",
       "    state zipcode   latitude  longitude  ... review_scores_location  \\\n",
       "0  Berlin   10119  52.534537  13.402557  ...                   10.0   \n",
       "1  Berlin   10437  52.548513  13.404553  ...                   10.0   \n",
       "2  Berlin   10405  52.534996  13.417579  ...                   10.0   \n",
       "3  Berlin   10777  52.498855  13.349065  ...                    9.0   \n",
       "4  Berlin   10437  52.543157  13.415091  ...                   10.0   \n",
       "\n",
       "  review_scores_value          cancellation_policy  reviews_per_month  wifi  \\\n",
       "0                 9.0  strict_14_with_grace_period               3.76     1   \n",
       "1                10.0                     flexible               1.42     1   \n",
       "2                 9.0  strict_14_with_grace_period               1.25     1   \n",
       "3                 9.0  strict_14_with_grace_period               0.39     1   \n",
       "4                 9.0                     moderate               1.75     1   \n",
       "\n",
       "   cable_tv washer kitchen  security   cost  \n",
       "0         0      1       1         1   90.0  \n",
       "1         1      1       1         0   17.0  \n",
       "2         1      1       1         1  140.0  \n",
       "3         1      1       0         1   56.0  \n",
       "4         1      0       0         0   42.0  \n",
       "\n",
       "[5 rows x 38 columns]"
      ]
     },
     "execution_count": 181,
     "metadata": {},
     "output_type": "execute_result"
    }
   ],
   "source": [
    "data.head()"
   ]
  },
  {
   "cell_type": "code",
   "execution_count": 182,
   "metadata": {},
   "outputs": [
    {
     "data": {
      "text/plain": [
       "id                            0\n",
       "name                         54\n",
       "description                 188\n",
       "neighborhood_overview     10619\n",
       "transit                    9177\n",
       "neighborhood                  0\n",
       "state                        77\n",
       "zipcode                       0\n",
       "latitude                      0\n",
       "longitude                     0\n",
       "property_type                 0\n",
       "room_type                     0\n",
       "accommodates                  0\n",
       "bathrooms                    32\n",
       "bedrooms                     18\n",
       "beds                         34\n",
       "bed_type                      0\n",
       "amenities                     0\n",
       "price                         0\n",
       "security_deposit              0\n",
       "cleaning_fee                  0\n",
       "guests_included               0\n",
       "extra_people                  0\n",
       "minimum_nights                0\n",
       "maximum_nights                0\n",
       "number_of_reviews             0\n",
       "review_scores_rating       4233\n",
       "review_scores_accuracy     4256\n",
       "review_scores_location     4271\n",
       "review_scores_value        4277\n",
       "cancellation_policy           0\n",
       "reviews_per_month          3773\n",
       "wifi                          0\n",
       "cable_tv                      0\n",
       "washer                        0\n",
       "kitchen                       0\n",
       "security                      0\n",
       "cost                          0\n",
       "dtype: int64"
      ]
     },
     "execution_count": 182,
     "metadata": {},
     "output_type": "execute_result"
    }
   ],
   "source": [
    "data.isnull().sum()"
   ]
  },
  {
   "cell_type": "code",
   "execution_count": 183,
   "metadata": {},
   "outputs": [],
   "source": [
    "data['bedrooms'].fillna((data['bedrooms'].mean()), inplace=True)"
   ]
  },
  {
   "cell_type": "code",
   "execution_count": 184,
   "metadata": {},
   "outputs": [],
   "source": [
    "data['bathrooms'].fillna((data['bathrooms'].mean()), inplace=True)"
   ]
  },
  {
   "cell_type": "code",
   "execution_count": 185,
   "metadata": {
    "scrolled": false
   },
   "outputs": [
    {
     "data": {
      "text/plain": [
       "id                            0\n",
       "name                         54\n",
       "description                 188\n",
       "neighborhood_overview     10619\n",
       "transit                    9177\n",
       "neighborhood                  0\n",
       "state                        77\n",
       "zipcode                       0\n",
       "latitude                      0\n",
       "longitude                     0\n",
       "property_type                 0\n",
       "room_type                     0\n",
       "accommodates                  0\n",
       "bathrooms                     0\n",
       "bedrooms                      0\n",
       "beds                         34\n",
       "bed_type                      0\n",
       "amenities                     0\n",
       "price                         0\n",
       "security_deposit              0\n",
       "cleaning_fee                  0\n",
       "guests_included               0\n",
       "extra_people                  0\n",
       "minimum_nights                0\n",
       "maximum_nights                0\n",
       "number_of_reviews             0\n",
       "review_scores_rating       4233\n",
       "review_scores_accuracy     4256\n",
       "review_scores_location     4271\n",
       "review_scores_value        4277\n",
       "cancellation_policy           0\n",
       "reviews_per_month          3773\n",
       "wifi                          0\n",
       "cable_tv                      0\n",
       "washer                        0\n",
       "kitchen                       0\n",
       "security                      0\n",
       "cost                          0\n",
       "dtype: int64"
      ]
     },
     "execution_count": 185,
     "metadata": {},
     "output_type": "execute_result"
    }
   ],
   "source": [
    "data.isnull().sum()"
   ]
  },
  {
   "cell_type": "code",
   "execution_count": 186,
   "metadata": {},
   "outputs": [],
   "source": [
    "data_subset = data[['neighborhood', 'room_type', 'accommodates', 'bathrooms', 'bedrooms', 'number_of_reviews', 'wifi', 'cable_tv', 'washer', 'kitchen', 'cost']]"
   ]
  },
  {
   "cell_type": "code",
   "execution_count": 187,
   "metadata": {},
   "outputs": [
    {
     "data": {
      "text/html": [
       "<div>\n",
       "<style scoped>\n",
       "    .dataframe tbody tr th:only-of-type {\n",
       "        vertical-align: middle;\n",
       "    }\n",
       "\n",
       "    .dataframe tbody tr th {\n",
       "        vertical-align: top;\n",
       "    }\n",
       "\n",
       "    .dataframe thead th {\n",
       "        text-align: right;\n",
       "    }\n",
       "</style>\n",
       "<table border=\"1\" class=\"dataframe\">\n",
       "  <thead>\n",
       "    <tr style=\"text-align: right;\">\n",
       "      <th></th>\n",
       "      <th>neighborhood</th>\n",
       "      <th>room_type</th>\n",
       "      <th>accommodates</th>\n",
       "      <th>bathrooms</th>\n",
       "      <th>bedrooms</th>\n",
       "      <th>number_of_reviews</th>\n",
       "      <th>wifi</th>\n",
       "      <th>cable_tv</th>\n",
       "      <th>washer</th>\n",
       "      <th>kitchen</th>\n",
       "      <th>cost</th>\n",
       "    </tr>\n",
       "  </thead>\n",
       "  <tbody>\n",
       "    <tr>\n",
       "      <th>0</th>\n",
       "      <td>Mitte</td>\n",
       "      <td>Entire home/apt</td>\n",
       "      <td>3</td>\n",
       "      <td>1.0</td>\n",
       "      <td>1.0</td>\n",
       "      <td>118</td>\n",
       "      <td>1</td>\n",
       "      <td>0</td>\n",
       "      <td>1</td>\n",
       "      <td>1</td>\n",
       "      <td>90.0</td>\n",
       "    </tr>\n",
       "    <tr>\n",
       "      <th>1</th>\n",
       "      <td>Pankow</td>\n",
       "      <td>Private room</td>\n",
       "      <td>2</td>\n",
       "      <td>1.0</td>\n",
       "      <td>1.0</td>\n",
       "      <td>6</td>\n",
       "      <td>1</td>\n",
       "      <td>1</td>\n",
       "      <td>1</td>\n",
       "      <td>1</td>\n",
       "      <td>17.0</td>\n",
       "    </tr>\n",
       "    <tr>\n",
       "      <th>2</th>\n",
       "      <td>Pankow</td>\n",
       "      <td>Entire home/apt</td>\n",
       "      <td>4</td>\n",
       "      <td>1.0</td>\n",
       "      <td>1.0</td>\n",
       "      <td>143</td>\n",
       "      <td>1</td>\n",
       "      <td>1</td>\n",
       "      <td>1</td>\n",
       "      <td>1</td>\n",
       "      <td>140.0</td>\n",
       "    </tr>\n",
       "    <tr>\n",
       "      <th>3</th>\n",
       "      <td>Tempelhof - Schöneberg</td>\n",
       "      <td>Private room</td>\n",
       "      <td>2</td>\n",
       "      <td>1.0</td>\n",
       "      <td>1.0</td>\n",
       "      <td>25</td>\n",
       "      <td>1</td>\n",
       "      <td>1</td>\n",
       "      <td>1</td>\n",
       "      <td>0</td>\n",
       "      <td>56.0</td>\n",
       "    </tr>\n",
       "    <tr>\n",
       "      <th>4</th>\n",
       "      <td>Pankow</td>\n",
       "      <td>Private room</td>\n",
       "      <td>2</td>\n",
       "      <td>1.0</td>\n",
       "      <td>1.0</td>\n",
       "      <td>197</td>\n",
       "      <td>1</td>\n",
       "      <td>1</td>\n",
       "      <td>0</td>\n",
       "      <td>0</td>\n",
       "      <td>42.0</td>\n",
       "    </tr>\n",
       "  </tbody>\n",
       "</table>\n",
       "</div>"
      ],
      "text/plain": [
       "             neighborhood        room_type  accommodates  bathrooms  bedrooms  \\\n",
       "0                   Mitte  Entire home/apt             3        1.0       1.0   \n",
       "1                  Pankow     Private room             2        1.0       1.0   \n",
       "2                  Pankow  Entire home/apt             4        1.0       1.0   \n",
       "3  Tempelhof - Schöneberg     Private room             2        1.0       1.0   \n",
       "4                  Pankow     Private room             2        1.0       1.0   \n",
       "\n",
       "   number_of_reviews  wifi  cable_tv  washer  kitchen   cost  \n",
       "0                118     1         0       1        1   90.0  \n",
       "1                  6     1         1       1        1   17.0  \n",
       "2                143     1         1       1        1  140.0  \n",
       "3                 25     1         1       1        0   56.0  \n",
       "4                197     1         1       0        0   42.0  "
      ]
     },
     "execution_count": 187,
     "metadata": {},
     "output_type": "execute_result"
    }
   ],
   "source": [
    "data_subset.head()"
   ]
  },
  {
   "cell_type": "code",
   "execution_count": 188,
   "metadata": {},
   "outputs": [],
   "source": [
    "from sklearn.preprocessing import LabelEncoder"
   ]
  },
  {
   "cell_type": "code",
   "execution_count": 189,
   "metadata": {},
   "outputs": [
    {
     "data": {
      "text/plain": [
       "LabelEncoder()"
      ]
     },
     "execution_count": 189,
     "metadata": {},
     "output_type": "execute_result"
    }
   ],
   "source": [
    "#Encoding\n",
    "\n",
    "le1 = LabelEncoder()\n",
    "le1.fit(data_subset['neighborhood'])"
   ]
  },
  {
   "cell_type": "code",
   "execution_count": 190,
   "metadata": {},
   "outputs": [
    {
     "data": {
      "text/plain": [
       "LabelEncoder()"
      ]
     },
     "execution_count": 190,
     "metadata": {},
     "output_type": "execute_result"
    }
   ],
   "source": [
    "le2 = LabelEncoder()\n",
    "le2.fit(data_subset['room_type'])"
   ]
  },
  {
   "cell_type": "code",
   "execution_count": 191,
   "metadata": {
    "scrolled": true
   },
   "outputs": [
    {
     "name": "stderr",
     "output_type": "stream",
     "text": [
      "/home/tcbic/anaconda3/envs/pipenv_base/lib/python3.7/site-packages/ipykernel_launcher.py:1: SettingWithCopyWarning: \n",
      "A value is trying to be set on a copy of a slice from a DataFrame.\n",
      "Try using .loc[row_indexer,col_indexer] = value instead\n",
      "\n",
      "See the caveats in the documentation: http://pandas.pydata.org/pandas-docs/stable/indexing.html#indexing-view-versus-copy\n",
      "  \"\"\"Entry point for launching an IPython kernel.\n"
     ]
    }
   ],
   "source": [
    "data_subset['neighborhood'] = le1.transform(data_subset['neighborhood'])"
   ]
  },
  {
   "cell_type": "code",
   "execution_count": 192,
   "metadata": {},
   "outputs": [
    {
     "name": "stderr",
     "output_type": "stream",
     "text": [
      "/home/tcbic/anaconda3/envs/pipenv_base/lib/python3.7/site-packages/ipykernel_launcher.py:1: SettingWithCopyWarning: \n",
      "A value is trying to be set on a copy of a slice from a DataFrame.\n",
      "Try using .loc[row_indexer,col_indexer] = value instead\n",
      "\n",
      "See the caveats in the documentation: http://pandas.pydata.org/pandas-docs/stable/indexing.html#indexing-view-versus-copy\n",
      "  \"\"\"Entry point for launching an IPython kernel.\n"
     ]
    }
   ],
   "source": [
    "data_subset['room_type'] = le2.transform(data_subset['room_type'])"
   ]
  },
  {
   "cell_type": "code",
   "execution_count": 193,
   "metadata": {},
   "outputs": [
    {
     "data": {
      "text/html": [
       "<div>\n",
       "<style scoped>\n",
       "    .dataframe tbody tr th:only-of-type {\n",
       "        vertical-align: middle;\n",
       "    }\n",
       "\n",
       "    .dataframe tbody tr th {\n",
       "        vertical-align: top;\n",
       "    }\n",
       "\n",
       "    .dataframe thead th {\n",
       "        text-align: right;\n",
       "    }\n",
       "</style>\n",
       "<table border=\"1\" class=\"dataframe\">\n",
       "  <thead>\n",
       "    <tr style=\"text-align: right;\">\n",
       "      <th></th>\n",
       "      <th>neighborhood</th>\n",
       "      <th>room_type</th>\n",
       "      <th>accommodates</th>\n",
       "      <th>bathrooms</th>\n",
       "      <th>bedrooms</th>\n",
       "      <th>number_of_reviews</th>\n",
       "      <th>wifi</th>\n",
       "      <th>cable_tv</th>\n",
       "      <th>washer</th>\n",
       "      <th>kitchen</th>\n",
       "      <th>cost</th>\n",
       "    </tr>\n",
       "  </thead>\n",
       "  <tbody>\n",
       "    <tr>\n",
       "      <th>0</th>\n",
       "      <td>4</td>\n",
       "      <td>0</td>\n",
       "      <td>3</td>\n",
       "      <td>1.0</td>\n",
       "      <td>1.0</td>\n",
       "      <td>118</td>\n",
       "      <td>1</td>\n",
       "      <td>0</td>\n",
       "      <td>1</td>\n",
       "      <td>1</td>\n",
       "      <td>90.0</td>\n",
       "    </tr>\n",
       "    <tr>\n",
       "      <th>1</th>\n",
       "      <td>6</td>\n",
       "      <td>1</td>\n",
       "      <td>2</td>\n",
       "      <td>1.0</td>\n",
       "      <td>1.0</td>\n",
       "      <td>6</td>\n",
       "      <td>1</td>\n",
       "      <td>1</td>\n",
       "      <td>1</td>\n",
       "      <td>1</td>\n",
       "      <td>17.0</td>\n",
       "    </tr>\n",
       "    <tr>\n",
       "      <th>2</th>\n",
       "      <td>6</td>\n",
       "      <td>0</td>\n",
       "      <td>4</td>\n",
       "      <td>1.0</td>\n",
       "      <td>1.0</td>\n",
       "      <td>143</td>\n",
       "      <td>1</td>\n",
       "      <td>1</td>\n",
       "      <td>1</td>\n",
       "      <td>1</td>\n",
       "      <td>140.0</td>\n",
       "    </tr>\n",
       "    <tr>\n",
       "      <th>3</th>\n",
       "      <td>10</td>\n",
       "      <td>1</td>\n",
       "      <td>2</td>\n",
       "      <td>1.0</td>\n",
       "      <td>1.0</td>\n",
       "      <td>25</td>\n",
       "      <td>1</td>\n",
       "      <td>1</td>\n",
       "      <td>1</td>\n",
       "      <td>0</td>\n",
       "      <td>56.0</td>\n",
       "    </tr>\n",
       "    <tr>\n",
       "      <th>4</th>\n",
       "      <td>6</td>\n",
       "      <td>1</td>\n",
       "      <td>2</td>\n",
       "      <td>1.0</td>\n",
       "      <td>1.0</td>\n",
       "      <td>197</td>\n",
       "      <td>1</td>\n",
       "      <td>1</td>\n",
       "      <td>0</td>\n",
       "      <td>0</td>\n",
       "      <td>42.0</td>\n",
       "    </tr>\n",
       "  </tbody>\n",
       "</table>\n",
       "</div>"
      ],
      "text/plain": [
       "   neighborhood  room_type  accommodates  bathrooms  bedrooms  \\\n",
       "0             4          0             3        1.0       1.0   \n",
       "1             6          1             2        1.0       1.0   \n",
       "2             6          0             4        1.0       1.0   \n",
       "3            10          1             2        1.0       1.0   \n",
       "4             6          1             2        1.0       1.0   \n",
       "\n",
       "   number_of_reviews  wifi  cable_tv  washer  kitchen   cost  \n",
       "0                118     1         0       1        1   90.0  \n",
       "1                  6     1         1       1        1   17.0  \n",
       "2                143     1         1       1        1  140.0  \n",
       "3                 25     1         1       1        0   56.0  \n",
       "4                197     1         1       0        0   42.0  "
      ]
     },
     "execution_count": 193,
     "metadata": {},
     "output_type": "execute_result"
    }
   ],
   "source": [
    "data_subset.head()"
   ]
  },
  {
   "cell_type": "code",
   "execution_count": 194,
   "metadata": {},
   "outputs": [
    {
     "data": {
      "text/plain": [
       "neighborhood           int64\n",
       "room_type              int64\n",
       "accommodates           int64\n",
       "bathrooms            float64\n",
       "bedrooms             float64\n",
       "number_of_reviews      int64\n",
       "wifi                   int64\n",
       "cable_tv               int64\n",
       "washer                 int64\n",
       "kitchen                int64\n",
       "cost                 float64\n",
       "dtype: object"
      ]
     },
     "execution_count": 194,
     "metadata": {},
     "output_type": "execute_result"
    }
   ],
   "source": [
    "data_subset.dtypes"
   ]
  },
  {
   "cell_type": "code",
   "execution_count": 199,
   "metadata": {
    "scrolled": true
   },
   "outputs": [
    {
     "name": "stderr",
     "output_type": "stream",
     "text": [
      "/home/tcbic/anaconda3/envs/pipenv_base/lib/python3.7/site-packages/ipykernel_launcher.py:3: SettingWithCopyWarning: \n",
      "A value is trying to be set on a copy of a slice from a DataFrame.\n",
      "Try using .loc[row_indexer,col_indexer] = value instead\n",
      "\n",
      "See the caveats in the documentation: http://pandas.pydata.org/pandas-docs/stable/indexing.html#indexing-view-versus-copy\n",
      "  This is separate from the ipykernel package so we can avoid doing imports until\n"
     ]
    }
   ],
   "source": [
    "#Change bedrooms and cost data type from float to int.\n",
    "\n",
    "data_subset['bathrooms'] = data_subset['bathrooms'].astype(int)"
   ]
  },
  {
   "cell_type": "code",
   "execution_count": 200,
   "metadata": {},
   "outputs": [
    {
     "name": "stderr",
     "output_type": "stream",
     "text": [
      "/home/tcbic/anaconda3/envs/pipenv_base/lib/python3.7/site-packages/ipykernel_launcher.py:1: SettingWithCopyWarning: \n",
      "A value is trying to be set on a copy of a slice from a DataFrame.\n",
      "Try using .loc[row_indexer,col_indexer] = value instead\n",
      "\n",
      "See the caveats in the documentation: http://pandas.pydata.org/pandas-docs/stable/indexing.html#indexing-view-versus-copy\n",
      "  \"\"\"Entry point for launching an IPython kernel.\n"
     ]
    }
   ],
   "source": [
    "data_subset['bedrooms'] = data_subset['bedrooms'].astype(int)"
   ]
  },
  {
   "cell_type": "code",
   "execution_count": 201,
   "metadata": {},
   "outputs": [
    {
     "name": "stderr",
     "output_type": "stream",
     "text": [
      "/home/tcbic/anaconda3/envs/pipenv_base/lib/python3.7/site-packages/ipykernel_launcher.py:1: SettingWithCopyWarning: \n",
      "A value is trying to be set on a copy of a slice from a DataFrame.\n",
      "Try using .loc[row_indexer,col_indexer] = value instead\n",
      "\n",
      "See the caveats in the documentation: http://pandas.pydata.org/pandas-docs/stable/indexing.html#indexing-view-versus-copy\n",
      "  \"\"\"Entry point for launching an IPython kernel.\n"
     ]
    }
   ],
   "source": [
    "data_subset['cost'] = data_subset['cost'].astype(int)"
   ]
  },
  {
   "cell_type": "code",
   "execution_count": 202,
   "metadata": {},
   "outputs": [
    {
     "data": {
      "text/plain": [
       "neighborhood         int64\n",
       "room_type            int64\n",
       "accommodates         int64\n",
       "bathrooms            int64\n",
       "bedrooms             int64\n",
       "number_of_reviews    int64\n",
       "wifi                 int64\n",
       "cable_tv             int64\n",
       "washer               int64\n",
       "kitchen              int64\n",
       "cost                 int64\n",
       "dtype: object"
      ]
     },
     "execution_count": 202,
     "metadata": {},
     "output_type": "execute_result"
    }
   ],
   "source": [
    "data_subset.dtypes"
   ]
  },
  {
   "cell_type": "code",
   "execution_count": 203,
   "metadata": {},
   "outputs": [],
   "source": [
    "features = data_subset[['neighborhood', 'room_type', 'accommodates', 'bathrooms', 'bedrooms', 'number_of_reviews', 'wifi', 'cable_tv', 'washer', 'kitchen']]"
   ]
  },
  {
   "cell_type": "code",
   "execution_count": 204,
   "metadata": {},
   "outputs": [
    {
     "data": {
      "text/html": [
       "<div>\n",
       "<style scoped>\n",
       "    .dataframe tbody tr th:only-of-type {\n",
       "        vertical-align: middle;\n",
       "    }\n",
       "\n",
       "    .dataframe tbody tr th {\n",
       "        vertical-align: top;\n",
       "    }\n",
       "\n",
       "    .dataframe thead th {\n",
       "        text-align: right;\n",
       "    }\n",
       "</style>\n",
       "<table border=\"1\" class=\"dataframe\">\n",
       "  <thead>\n",
       "    <tr style=\"text-align: right;\">\n",
       "      <th></th>\n",
       "      <th>neighborhood</th>\n",
       "      <th>room_type</th>\n",
       "      <th>accommodates</th>\n",
       "      <th>bathrooms</th>\n",
       "      <th>bedrooms</th>\n",
       "      <th>number_of_reviews</th>\n",
       "      <th>wifi</th>\n",
       "      <th>cable_tv</th>\n",
       "      <th>washer</th>\n",
       "      <th>kitchen</th>\n",
       "    </tr>\n",
       "  </thead>\n",
       "  <tbody>\n",
       "    <tr>\n",
       "      <th>0</th>\n",
       "      <td>4</td>\n",
       "      <td>0</td>\n",
       "      <td>3</td>\n",
       "      <td>1</td>\n",
       "      <td>1</td>\n",
       "      <td>118</td>\n",
       "      <td>1</td>\n",
       "      <td>0</td>\n",
       "      <td>1</td>\n",
       "      <td>1</td>\n",
       "    </tr>\n",
       "    <tr>\n",
       "      <th>1</th>\n",
       "      <td>6</td>\n",
       "      <td>1</td>\n",
       "      <td>2</td>\n",
       "      <td>1</td>\n",
       "      <td>1</td>\n",
       "      <td>6</td>\n",
       "      <td>1</td>\n",
       "      <td>1</td>\n",
       "      <td>1</td>\n",
       "      <td>1</td>\n",
       "    </tr>\n",
       "    <tr>\n",
       "      <th>2</th>\n",
       "      <td>6</td>\n",
       "      <td>0</td>\n",
       "      <td>4</td>\n",
       "      <td>1</td>\n",
       "      <td>1</td>\n",
       "      <td>143</td>\n",
       "      <td>1</td>\n",
       "      <td>1</td>\n",
       "      <td>1</td>\n",
       "      <td>1</td>\n",
       "    </tr>\n",
       "    <tr>\n",
       "      <th>3</th>\n",
       "      <td>10</td>\n",
       "      <td>1</td>\n",
       "      <td>2</td>\n",
       "      <td>1</td>\n",
       "      <td>1</td>\n",
       "      <td>25</td>\n",
       "      <td>1</td>\n",
       "      <td>1</td>\n",
       "      <td>1</td>\n",
       "      <td>0</td>\n",
       "    </tr>\n",
       "    <tr>\n",
       "      <th>4</th>\n",
       "      <td>6</td>\n",
       "      <td>1</td>\n",
       "      <td>2</td>\n",
       "      <td>1</td>\n",
       "      <td>1</td>\n",
       "      <td>197</td>\n",
       "      <td>1</td>\n",
       "      <td>1</td>\n",
       "      <td>0</td>\n",
       "      <td>0</td>\n",
       "    </tr>\n",
       "  </tbody>\n",
       "</table>\n",
       "</div>"
      ],
      "text/plain": [
       "   neighborhood  room_type  accommodates  bathrooms  bedrooms  \\\n",
       "0             4          0             3          1         1   \n",
       "1             6          1             2          1         1   \n",
       "2             6          0             4          1         1   \n",
       "3            10          1             2          1         1   \n",
       "4             6          1             2          1         1   \n",
       "\n",
       "   number_of_reviews  wifi  cable_tv  washer  kitchen  \n",
       "0                118     1         0       1        1  \n",
       "1                  6     1         1       1        1  \n",
       "2                143     1         1       1        1  \n",
       "3                 25     1         1       1        0  \n",
       "4                197     1         1       0        0  "
      ]
     },
     "execution_count": 204,
     "metadata": {},
     "output_type": "execute_result"
    }
   ],
   "source": [
    "features.head()"
   ]
  },
  {
   "cell_type": "code",
   "execution_count": 205,
   "metadata": {},
   "outputs": [],
   "source": [
    "target = data_subset['cost']"
   ]
  },
  {
   "cell_type": "code",
   "execution_count": 206,
   "metadata": {},
   "outputs": [
    {
     "data": {
      "text/plain": [
       "0     90\n",
       "1     17\n",
       "2    140\n",
       "3     56\n",
       "4     42\n",
       "Name: cost, dtype: int64"
      ]
     },
     "execution_count": 206,
     "metadata": {},
     "output_type": "execute_result"
    }
   ],
   "source": [
    "target.head()"
   ]
  },
  {
   "cell_type": "markdown",
   "metadata": {},
   "source": [
    "Split into train and test sets."
   ]
  },
  {
   "cell_type": "code",
   "execution_count": 207,
   "metadata": {},
   "outputs": [],
   "source": [
    "from sklearn.model_selection import train_test_split"
   ]
  },
  {
   "cell_type": "code",
   "execution_count": 208,
   "metadata": {},
   "outputs": [],
   "source": [
    "X_train, X_test, y_train, y_test = train_test_split(features, target, train_size = .80, test_size = .20, random_state=42)"
   ]
  },
  {
   "cell_type": "code",
   "execution_count": 209,
   "metadata": {},
   "outputs": [
    {
     "data": {
      "text/plain": [
       "((17516, 10), (4380, 10), (17516,), (4380,))"
      ]
     },
     "execution_count": 209,
     "metadata": {},
     "output_type": "execute_result"
    }
   ],
   "source": [
    "X_train.shape, X_test.shape, y_train.shape, y_test.shape"
   ]
  },
  {
   "cell_type": "markdown",
   "metadata": {},
   "source": [
    "Model"
   ]
  },
  {
   "cell_type": "code",
   "execution_count": 210,
   "metadata": {},
   "outputs": [],
   "source": [
    "from sklearn.tree import DecisionTreeClassifier"
   ]
  },
  {
   "cell_type": "code",
   "execution_count": 211,
   "metadata": {},
   "outputs": [],
   "source": [
    "algo = DecisionTreeClassifier()\n",
    "model = algo.fit(X_train, y_train)"
   ]
  },
  {
   "cell_type": "code",
   "execution_count": 212,
   "metadata": {},
   "outputs": [],
   "source": [
    "preds = model.predict(X_test)"
   ]
  },
  {
   "cell_type": "code",
   "execution_count": 213,
   "metadata": {},
   "outputs": [],
   "source": [
    "import pickle"
   ]
  },
  {
   "cell_type": "code",
   "execution_count": 214,
   "metadata": {},
   "outputs": [],
   "source": [
    "#Pickle the model.\n",
    "\n",
    "pickle.dump(model, open('tues_model2.pkl', 'wb'))"
   ]
  },
  {
   "cell_type": "code",
   "execution_count": null,
   "metadata": {},
   "outputs": [],
   "source": [
    "#CHECK"
   ]
  },
  {
   "cell_type": "code",
   "execution_count": 215,
   "metadata": {},
   "outputs": [],
   "source": [
    "import json\n",
    "import requests"
   ]
  },
  {
   "cell_type": "code",
   "execution_count": 216,
   "metadata": {},
   "outputs": [],
   "source": [
    "url = \"http://localhost:5000/api\""
   ]
  },
  {
   "cell_type": "code",
   "execution_count": 217,
   "metadata": {},
   "outputs": [],
   "source": [
    "test_dict = {'neighborhood': 12, 'room_type': 1, 'accommodates': 13, 'bathrooms': 2, 'bedrooms': 2, 'number_of_reviews': 4, 'wifi': 0, 'cable_tv': 1, 'washer': 1, 'kitchen': 0}"
   ]
  },
  {
   "cell_type": "code",
   "execution_count": 218,
   "metadata": {},
   "outputs": [],
   "source": [
    "data = json.dumps(test_dict)"
   ]
  },
  {
   "cell_type": "code",
   "execution_count": 219,
   "metadata": {},
   "outputs": [],
   "source": [
    "send = requests.post(url, data)"
   ]
  },
  {
   "cell_type": "code",
   "execution_count": 220,
   "metadata": {},
   "outputs": [
    {
     "name": "stdout",
     "output_type": "stream",
     "text": [
      "{'results': {'y_hat': 200}}\n"
     ]
    }
   ],
   "source": [
    "print(send.json())"
   ]
  }
 ],
 "metadata": {
  "kernelspec": {
   "display_name": "Python 3",
   "language": "python",
   "name": "python3"
  },
  "language_info": {
   "codemirror_mode": {
    "name": "ipython",
    "version": 3
   },
   "file_extension": ".py",
   "mimetype": "text/x-python",
   "name": "python",
   "nbconvert_exporter": "python",
   "pygments_lexer": "ipython3",
   "version": "3.7.3"
  }
 },
 "nbformat": 4,
 "nbformat_minor": 2
}
